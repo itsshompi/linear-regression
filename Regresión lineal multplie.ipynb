{
 "cells": [
  {
   "cell_type": "markdown",
   "metadata": {},
   "source": [
    "### Resolución de problema mediante codigo escrito en Python (Lenguaje de Programación)\n",
    "Este codigo esta creado para resolver el problema planteando en la Evaluación de Desempeño I del Curso Calculo Avanzado. "
   ]
  },
  {
   "cell_type": "code",
   "execution_count": 8,
   "metadata": {
    "collapsed": true
   },
   "outputs": [],
   "source": [
    "import numpy as np\n",
    "import statsmodels.api as sm"
   ]
  },
  {
   "cell_type": "markdown",
   "metadata": {},
   "source": [
    "Se crea la variable dependiente que contendra una cierta cantidad de datos (Total: 12 datos)\n",
    "\n",
    "Los datos corresponden a las ventas de Enero a Diciembre del año 2017 de la Empresa"
   ]
  },
  {
   "cell_type": "code",
   "execution_count": 9,
   "metadata": {
    "collapsed": true
   },
   "outputs": [],
   "source": [
    "y = [230,340,425,520,610,790,980,1150,1375,1690,1805,2150]"
   ]
  },
  {
   "cell_type": "markdown",
   "metadata": {},
   "source": [
    "Se crean las variables independientes. En este caso X1 y X2.\n",
    "\n",
    "x1 corresponde a los datos de cantidad de trabajadores que existian trabajando en cada mes, desde Enero a Diciembre."
   ]
  },
  {
   "cell_type": "code",
   "execution_count": 10,
   "metadata": {
    "collapsed": true
   },
   "outputs": [],
   "source": [
    "x1 = [10,11,11,12,14,12,15,14,14,15,17,19]"
   ]
  },
  {
   "cell_type": "markdown",
   "metadata": {},
   "source": [
    "x2 corresponde a los datos de la catndidad de horas que trabaja cada empleado en cada mes, desde Enero a Diciembre."
   ]
  },
  {
   "cell_type": "code",
   "execution_count": 11,
   "metadata": {
    "collapsed": true
   },
   "outputs": [],
   "source": [
    "x2 = [20,20,24,24,24,30,30,30,30,34,34,34]"
   ]
  },
  {
   "cell_type": "markdown",
   "metadata": {},
   "source": [
    "Procedemos a crear la función que nos devolvera los datos de los ceoficientes que necesitamos para crear nuestra ecuación para estimar las ventas."
   ]
  },
  {
   "cell_type": "code",
   "execution_count": 33,
   "metadata": {
    "collapsed": true
   },
   "outputs": [],
   "source": [
    "def regresion_multiple(y, x1, x2):\n",
    "    x = []\n",
    "    x.append(x2)\n",
    "    x.append(x1)\n",
    "    ones = np.ones(len(x[0]))\n",
    "    X = sm.add_constant(np.column_stack((x[0], ones)))\n",
    "    for ele in x[1:]:\n",
    "        X = sm.add_constant(np.column_stack((ele, X)))\n",
    "    results = sm.OLS(y, X).fit()\n",
    "    return results"
   ]
  },
  {
   "cell_type": "code",
   "execution_count": 34,
   "metadata": {},
   "outputs": [
    {
     "name": "stderr",
     "output_type": "stream",
     "text": [
      "C:\\Users\\Ragnar\\Anaconda3\\lib\\site-packages\\scipy\\stats\\stats.py:1334: UserWarning: kurtosistest only valid for n>=20 ... continuing anyway, n=12\n",
      "  \"anyway, n=%i\" % int(n))\n"
     ]
    },
    {
     "data": {
      "text/html": [
       "<table class=\"simpletable\">\n",
       "<caption>OLS Regression Results</caption>\n",
       "<tr>\n",
       "  <th>Dep. Variable:</th>            <td>y</td>        <th>  R-squared:         </th> <td>   0.936</td>\n",
       "</tr>\n",
       "<tr>\n",
       "  <th>Model:</th>                   <td>OLS</td>       <th>  Adj. R-squared:    </th> <td>   0.921</td>\n",
       "</tr>\n",
       "<tr>\n",
       "  <th>Method:</th>             <td>Least Squares</td>  <th>  F-statistic:       </th> <td>   65.34</td>\n",
       "</tr>\n",
       "<tr>\n",
       "  <th>Date:</th>             <td>Tue, 22 May 2018</td> <th>  Prob (F-statistic):</th> <td>4.37e-06</td>\n",
       "</tr>\n",
       "<tr>\n",
       "  <th>Time:</th>                 <td>15:43:45</td>     <th>  Log-Likelihood:    </th> <td> -77.441</td>\n",
       "</tr>\n",
       "<tr>\n",
       "  <th>No. Observations:</th>      <td>    12</td>      <th>  AIC:               </th> <td>   160.9</td>\n",
       "</tr>\n",
       "<tr>\n",
       "  <th>Df Residuals:</th>          <td>     9</td>      <th>  BIC:               </th> <td>   162.3</td>\n",
       "</tr>\n",
       "<tr>\n",
       "  <th>Df Model:</th>              <td>     2</td>      <th>                     </th>     <td> </td>   \n",
       "</tr>\n",
       "<tr>\n",
       "  <th>Covariance Type:</th>      <td>nonrobust</td>    <th>                     </th>     <td> </td>   \n",
       "</tr>\n",
       "</table>\n",
       "<table class=\"simpletable\">\n",
       "<tr>\n",
       "    <td></td>       <th>coef</th>     <th>std err</th>      <th>t</th>      <th>P>|t|</th>  <th>[0.025</th>    <th>0.975]</th>  \n",
       "</tr>\n",
       "<tr>\n",
       "  <th>x1</th>    <td>  119.9379</td> <td>   37.347</td> <td>    3.211</td> <td> 0.011</td> <td>   35.454</td> <td>  204.422</td>\n",
       "</tr>\n",
       "<tr>\n",
       "  <th>x2</th>    <td>   61.4641</td> <td>   18.890</td> <td>    3.254</td> <td> 0.010</td> <td>   18.732</td> <td>  104.197</td>\n",
       "</tr>\n",
       "<tr>\n",
       "  <th>const</th> <td>-2344.4853</td> <td>  297.812</td> <td>   -7.872</td> <td> 0.000</td> <td>-3018.182</td> <td>-1670.789</td>\n",
       "</tr>\n",
       "</table>\n",
       "<table class=\"simpletable\">\n",
       "<tr>\n",
       "  <th>Omnibus:</th>       <td> 1.200</td> <th>  Durbin-Watson:     </th> <td>   0.863</td>\n",
       "</tr>\n",
       "<tr>\n",
       "  <th>Prob(Omnibus):</th> <td> 0.549</td> <th>  Jarque-Bera (JB):  </th> <td>   0.930</td>\n",
       "</tr>\n",
       "<tr>\n",
       "  <th>Skew:</th>          <td>-0.585</td> <th>  Prob(JB):          </th> <td>   0.628</td>\n",
       "</tr>\n",
       "<tr>\n",
       "  <th>Kurtosis:</th>      <td> 2.299</td> <th>  Cond. No.          </th> <td>    183.</td>\n",
       "</tr>\n",
       "</table>"
      ],
      "text/plain": [
       "<class 'statsmodels.iolib.summary.Summary'>\n",
       "\"\"\"\n",
       "                            OLS Regression Results                            \n",
       "==============================================================================\n",
       "Dep. Variable:                      y   R-squared:                       0.936\n",
       "Model:                            OLS   Adj. R-squared:                  0.921\n",
       "Method:                 Least Squares   F-statistic:                     65.34\n",
       "Date:                Tue, 22 May 2018   Prob (F-statistic):           4.37e-06\n",
       "Time:                        15:43:45   Log-Likelihood:                -77.441\n",
       "No. Observations:                  12   AIC:                             160.9\n",
       "Df Residuals:                       9   BIC:                             162.3\n",
       "Df Model:                           2                                         \n",
       "Covariance Type:            nonrobust                                         \n",
       "==============================================================================\n",
       "                 coef    std err          t      P>|t|      [0.025      0.975]\n",
       "------------------------------------------------------------------------------\n",
       "x1           119.9379     37.347      3.211      0.011      35.454     204.422\n",
       "x2            61.4641     18.890      3.254      0.010      18.732     104.197\n",
       "const      -2344.4853    297.812     -7.872      0.000   -3018.182   -1670.789\n",
       "==============================================================================\n",
       "Omnibus:                        1.200   Durbin-Watson:                   0.863\n",
       "Prob(Omnibus):                  0.549   Jarque-Bera (JB):                0.930\n",
       "Skew:                          -0.585   Prob(JB):                        0.628\n",
       "Kurtosis:                       2.299   Cond. No.                         183.\n",
       "==============================================================================\n",
       "\n",
       "Warnings:\n",
       "[1] Standard Errors assume that the covariance matrix of the errors is correctly specified.\n",
       "\"\"\""
      ]
     },
     "execution_count": 34,
     "metadata": {},
     "output_type": "execute_result"
    }
   ],
   "source": [
    "regresion_multiple(y, x1, x2).summary()"
   ]
  },
  {
   "cell_type": "markdown",
   "metadata": {},
   "source": [
    "Entonces nuestra ecuación quedaria de la siguiente forma."
   ]
  },
  {
   "cell_type": "markdown",
   "metadata": {},
   "source": [
    "$$ y = 119.9379x_1 + 61.4641x_2 -2344.4853$$"
   ]
  },
  {
   "cell_type": "markdown",
   "metadata": {},
   "source": [
    "Con la siguiente ecuación podriamos calcular la cantidad de ventas de una empresa en base a las horas de trabajo y a la cantidad de empleados.\n",
    "\n",
    "Crearemos un ejemplo con los siguientes datos:\n",
    "    - Cantidad de trabajadores: 24\n",
    "    - Cantidad de horas en trabajo: 45\n",
    "    "
   ]
  },
  {
   "cell_type": "markdown",
   "metadata": {},
   "source": [
    "$$ y = 119.9379 * 24 + 61.4641 * 45 -2344.4853$$"
   ]
  },
  {
   "cell_type": "markdown",
   "metadata": {},
   "source": [
    "El resultado de esta ecuación seria:"
   ]
  },
  {
   "cell_type": "code",
   "execution_count": 39,
   "metadata": {},
   "outputs": [
    {
     "data": {
      "text/plain": [
       "329990879.99999994"
      ]
     },
     "execution_count": 39,
     "metadata": {},
     "output_type": "execute_result"
    }
   ],
   "source": [
    "y = 119.9379 * 24 + 61.4641 * 45 -2344.4853\n",
    "resultado_final = y * 100000 #Se multiplica debido a que los datos de ventas se encontraban simplicados en 100000\n",
    "resultado_final"
   ]
  },
  {
   "cell_type": "markdown",
   "metadata": {},
   "source": [
    "#### Resultado final\n",
    "La empresa con 24 trabajadores y trabajando 45 horas estaria ganando un aproximado de $329.990.890 CLP"
   ]
  },
  {
   "cell_type": "code",
   "execution_count": null,
   "metadata": {
    "collapsed": true
   },
   "outputs": [],
   "source": []
  }
 ],
 "metadata": {
  "kernelspec": {
   "display_name": "Python 3",
   "language": "python",
   "name": "python3"
  },
  "language_info": {
   "codemirror_mode": {
    "name": "ipython",
    "version": 3
   },
   "file_extension": ".py",
   "mimetype": "text/x-python",
   "name": "python",
   "nbconvert_exporter": "python",
   "pygments_lexer": "ipython3",
   "version": "3.6.3"
  }
 },
 "nbformat": 4,
 "nbformat_minor": 2
}
